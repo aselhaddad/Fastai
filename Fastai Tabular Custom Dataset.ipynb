{
 "cells": [
  {
   "cell_type": "code",
   "execution_count": 1,
   "metadata": {
    "_kg_hide-output": true,
    "execution": {
     "iopub.execute_input": "2021-01-16T16:39:58.004973Z",
     "iopub.status.busy": "2021-01-16T16:39:58.004124Z",
     "iopub.status.idle": "2021-01-16T16:40:01.426735Z",
     "shell.execute_reply": "2021-01-16T16:40:01.427439Z"
    },
    "papermill": {
     "duration": 3.458379,
     "end_time": "2021-01-16T16:40:01.427637",
     "exception": false,
     "start_time": "2021-01-16T16:39:57.969258",
     "status": "completed"
    },
    "tags": []
   },
   "outputs": [
    {
     "data": {
      "text/html": [
       "<style type='text/css'>\n",
       ".datatable table.frame { margin-bottom: 0; }\n",
       ".datatable table.frame thead { border-bottom: none; }\n",
       ".datatable table.frame tr.coltypes td {  color: #FFFFFF;  line-height: 6px;  padding: 0 0.5em;}\n",
       ".datatable .bool    { background: #DDDD99; }\n",
       ".datatable .object  { background: #565656; }\n",
       ".datatable .int     { background: #5D9E5D; }\n",
       ".datatable .float   { background: #4040CC; }\n",
       ".datatable .str     { background: #CC4040; }\n",
       ".datatable .row_index {  background: var(--jp-border-color3);  border-right: 1px solid var(--jp-border-color0);  color: var(--jp-ui-font-color3);  font-size: 9px;}\n",
       ".datatable .frame tr.coltypes .row_index {  background: var(--jp-border-color0);}\n",
       ".datatable th:nth-child(2) { padding-left: 12px; }\n",
       ".datatable .hellipsis {  color: var(--jp-cell-editor-border-color);}\n",
       ".datatable .vellipsis {  background: var(--jp-layout-color0);  color: var(--jp-cell-editor-border-color);}\n",
       ".datatable .na {  color: var(--jp-cell-editor-border-color);  font-size: 80%;}\n",
       ".datatable .footer { font-size: 9px; }\n",
       ".datatable .frame_dimensions {  background: var(--jp-border-color3);  border-top: 1px solid var(--jp-border-color0);  color: var(--jp-ui-font-color3);  display: inline-block;  opacity: 0.6;  padding: 1px 10px 1px 5px;}\n",
       "</style>\n"
      ],
      "text/plain": [
       "<IPython.core.display.HTML object>"
      ]
     },
     "metadata": {},
     "output_type": "display_data"
    }
   ],
   "source": [
    "import os, gc\n",
    "import numpy as np\n",
    "#from numba import njit\n",
    "import datatable as dtable\n",
    "import pandas as pd\n",
    "\n",
    "\n",
    "from sklearn.model_selection import GroupKFold\n",
    "\n",
    "import torch\n",
    "import torch.nn as nn\n",
    "import torch.nn.functional as F\n",
    "from tqdm import tqdm\n",
    "import torch.optim as optim\n",
    "import fastai\n",
    "from fastai.tabular.all import *"
   ]
  },
  {
   "cell_type": "code",
   "execution_count": 2,
   "metadata": {
    "execution": {
     "iopub.execute_input": "2021-01-16T16:40:01.490474Z",
     "iopub.status.busy": "2021-01-16T16:40:01.489515Z",
     "iopub.status.idle": "2021-01-16T16:40:01.492410Z",
     "shell.execute_reply": "2021-01-16T16:40:01.492919Z"
    },
    "papermill": {
     "duration": 0.036417,
     "end_time": "2021-01-16T16:40:01.493058",
     "exception": false,
     "start_time": "2021-01-16T16:40:01.456641",
     "status": "completed"
    },
    "tags": []
   },
   "outputs": [],
   "source": [
    "device = torch.device('cuda:0' if torch.cuda.is_available() else 'cpu')"
   ]
  },
  {
   "cell_type": "markdown",
   "metadata": {
    "papermill": {
     "duration": 0.027359,
     "end_time": "2021-01-16T16:40:01.549374",
     "exception": false,
     "start_time": "2021-01-16T16:40:01.522015",
     "status": "completed"
    },
    "tags": []
   },
   "source": [
    "# Preprocessing"
   ]
  },
  {
   "cell_type": "code",
   "execution_count": 3,
   "metadata": {
    "_kg_hide-output": true,
    "execution": {
     "iopub.execute_input": "2021-01-16T16:40:01.614089Z",
     "iopub.status.busy": "2021-01-16T16:40:01.613278Z",
     "iopub.status.idle": "2021-01-16T16:41:07.635399Z",
     "shell.execute_reply": "2021-01-16T16:41:07.634788Z"
    },
    "papermill": {
     "duration": 66.057515,
     "end_time": "2021-01-16T16:41:07.635504",
     "exception": false,
     "start_time": "2021-01-16T16:40:01.577989",
     "status": "completed"
    },
    "tags": []
   },
   "outputs": [
    {
     "name": "stdout",
     "output_type": "stream",
     "text": [
      "Loading...\n",
      "Filling...\n",
      "Finish.\n",
      "CPU times: user 30.4 s, sys: 10 s, total: 40.4 s\n",
      "Wall time: 1min 6s\n"
     ]
    }
   ],
   "source": [
    "%%time\n",
    "\n",
    "print('Loading...')\n",
    "train = dtable.fread('../input/jane-street-market-prediction/train.csv').to_pandas()\n",
    "features = [c for c in train.columns if 'feature' in c]\n",
    "\n",
    "print('Filling...')\n",
    "train = train.query('weight > 0').reset_index(drop = True)\n",
    "#train[features] = train[features].fillna(method = 'ffill').fillna(0)\n",
    "\n",
    "print('Finish.')"
   ]
  },
  {
   "cell_type": "code",
   "execution_count": 4,
   "metadata": {
    "execution": {
     "iopub.execute_input": "2021-01-16T16:41:08.391565Z",
     "iopub.status.busy": "2021-01-16T16:41:08.390483Z",
     "iopub.status.idle": "2021-01-16T16:41:08.813998Z",
     "shell.execute_reply": "2021-01-16T16:41:08.813382Z"
    },
    "papermill": {
     "duration": 1.15187,
     "end_time": "2021-01-16T16:41:08.814117",
     "exception": false,
     "start_time": "2021-01-16T16:41:07.662247",
     "status": "completed"
    },
    "tags": []
   },
   "outputs": [],
   "source": [
    "f_mean = train[features[1:]].mean()"
   ]
  },
  {
   "cell_type": "code",
   "execution_count": 5,
   "metadata": {
    "execution": {
     "iopub.execute_input": "2021-01-16T16:41:09.480644Z",
     "iopub.status.busy": "2021-01-16T16:41:09.479436Z",
     "iopub.status.idle": "2021-01-16T16:41:11.754411Z",
     "shell.execute_reply": "2021-01-16T16:41:11.753839Z"
    },
    "papermill": {
     "duration": 2.913297,
     "end_time": "2021-01-16T16:41:11.754551",
     "exception": false,
     "start_time": "2021-01-16T16:41:08.841254",
     "status": "completed"
    },
    "tags": []
   },
   "outputs": [],
   "source": [
    "train[features[1:]] = train[features[1:]].fillna(f_mean)"
   ]
  },
  {
   "cell_type": "code",
   "execution_count": 6,
   "metadata": {
    "execution": {
     "iopub.execute_input": "2021-01-16T16:41:12.425217Z",
     "iopub.status.busy": "2021-01-16T16:41:12.424119Z",
     "iopub.status.idle": "2021-01-16T16:41:12.850919Z",
     "shell.execute_reply": "2021-01-16T16:41:12.850282Z"
    },
    "papermill": {
     "duration": 1.067931,
     "end_time": "2021-01-16T16:41:12.851077",
     "exception": false,
     "start_time": "2021-01-16T16:41:11.783146",
     "status": "completed"
    },
    "tags": []
   },
   "outputs": [],
   "source": [
    "train[features].astype('float32')\n",
    "train['action'] = (train['resp'] > 0).astype('int')"
   ]
  },
  {
   "cell_type": "code",
   "execution_count": 7,
   "metadata": {
    "execution": {
     "iopub.execute_input": "2021-01-16T16:41:12.912191Z",
     "iopub.status.busy": "2021-01-16T16:41:12.910762Z",
     "iopub.status.idle": "2021-01-16T16:41:14.094445Z",
     "shell.execute_reply": "2021-01-16T16:41:14.093698Z"
    },
    "papermill": {
     "duration": 1.216404,
     "end_time": "2021-01-16T16:41:14.094622",
     "exception": false,
     "start_time": "2021-01-16T16:41:12.878218",
     "status": "completed"
    },
    "tags": []
   },
   "outputs": [
    {
     "data": {
      "text/plain": [
       "0"
      ]
     },
     "execution_count": 7,
     "metadata": {},
     "output_type": "execute_result"
    }
   ],
   "source": [
    "np.isnan(train.values).sum()"
   ]
  },
  {
   "cell_type": "code",
   "execution_count": 8,
   "metadata": {
    "execution": {
     "iopub.execute_input": "2021-01-16T16:41:14.155847Z",
     "iopub.status.busy": "2021-01-16T16:41:14.154569Z",
     "iopub.status.idle": "2021-01-16T16:41:14.157245Z",
     "shell.execute_reply": "2021-01-16T16:41:14.157793Z"
    },
    "papermill": {
     "duration": 0.03487,
     "end_time": "2021-01-16T16:41:14.157944",
     "exception": false,
     "start_time": "2021-01-16T16:41:14.123074",
     "status": "completed"
    },
    "tags": []
   },
   "outputs": [],
   "source": [
    "target_column = ['action']"
   ]
  },
  {
   "cell_type": "code",
   "execution_count": 9,
   "metadata": {
    "execution": {
     "iopub.execute_input": "2021-01-16T16:41:14.216775Z",
     "iopub.status.busy": "2021-01-16T16:41:14.216167Z",
     "iopub.status.idle": "2021-01-16T16:41:14.222349Z",
     "shell.execute_reply": "2021-01-16T16:41:14.221798Z"
    },
    "papermill": {
     "duration": 0.037414,
     "end_time": "2021-01-16T16:41:14.222441",
     "exception": false,
     "start_time": "2021-01-16T16:41:14.185027",
     "status": "completed"
    },
    "tags": []
   },
   "outputs": [
    {
     "data": {
      "text/plain": [
       "130"
      ]
     },
     "execution_count": 9,
     "metadata": {},
     "output_type": "execute_result"
    }
   ],
   "source": [
    "len(features)"
   ]
  },
  {
   "cell_type": "markdown",
   "metadata": {
    "papermill": {
     "duration": 0.027443,
     "end_time": "2021-01-16T16:41:14.277114",
     "exception": false,
     "start_time": "2021-01-16T16:41:14.249671",
     "status": "completed"
    },
    "tags": []
   },
   "source": [
    "Deviding the data:\n",
    "\n",
    "The easiest way is to use sklearn tool or even the fastai spilitter.\n",
    "Actually I got better results deviding thee data with fastai splitters, where the date is not considered."
   ]
  },
  {
   "cell_type": "code",
   "execution_count": 10,
   "metadata": {
    "execution": {
     "iopub.execute_input": "2021-01-16T16:41:14.336180Z",
     "iopub.status.busy": "2021-01-16T16:41:14.335464Z",
     "iopub.status.idle": "2021-01-16T16:41:14.339701Z",
     "shell.execute_reply": "2021-01-16T16:41:14.339229Z"
    },
    "papermill": {
     "duration": 0.035032,
     "end_time": "2021-01-16T16:41:14.339793",
     "exception": false,
     "start_time": "2021-01-16T16:41:14.304761",
     "status": "completed"
    },
    "tags": []
   },
   "outputs": [],
   "source": [
    "#gkf = GroupKFold(n_splits = 5)\n",
    "#for fold, (tr, te) in enumerate(gkf.split(train['action'].values, train['action'].values, train['date'].values)):\n",
    "    \n",
    "    #X_tr, X_val = train.loc[tr, features], train.loc[te, features]\n",
    "    #y_tr, y_val = train.loc[tr, target_column], train.loc[te, target_column]"
   ]
  },
  {
   "cell_type": "code",
   "execution_count": 11,
   "metadata": {
    "execution": {
     "iopub.execute_input": "2021-01-16T16:41:14.465413Z",
     "iopub.status.busy": "2021-01-16T16:41:14.464791Z",
     "iopub.status.idle": "2021-01-16T16:41:14.791507Z",
     "shell.execute_reply": "2021-01-16T16:41:14.790914Z"
    },
    "papermill": {
     "duration": 0.422915,
     "end_time": "2021-01-16T16:41:14.791616",
     "exception": false,
     "start_time": "2021-01-16T16:41:14.368701",
     "status": "completed"
    },
    "tags": []
   },
   "outputs": [],
   "source": [
    "splits = RandomSplitter(valid_pct=0.2)(range_of(train))"
   ]
  },
  {
   "cell_type": "code",
   "execution_count": 12,
   "metadata": {
    "execution": {
     "iopub.execute_input": "2021-01-16T16:41:14.890063Z",
     "iopub.status.busy": "2021-01-16T16:41:14.889326Z",
     "iopub.status.idle": "2021-01-16T16:41:14.892830Z",
     "shell.execute_reply": "2021-01-16T16:41:14.893320Z"
    },
    "papermill": {
     "duration": 0.03772,
     "end_time": "2021-01-16T16:41:14.893431",
     "exception": false,
     "start_time": "2021-01-16T16:41:14.855711",
     "status": "completed"
    },
    "tags": []
   },
   "outputs": [
    {
     "data": {
      "text/plain": [
       "1585030"
      ]
     },
     "execution_count": 12,
     "metadata": {},
     "output_type": "execute_result"
    }
   ],
   "source": [
    "len(splits[0])"
   ]
  },
  {
   "cell_type": "code",
   "execution_count": 13,
   "metadata": {
    "execution": {
     "iopub.execute_input": "2021-01-16T16:41:15.242164Z",
     "iopub.status.busy": "2021-01-16T16:41:15.241275Z",
     "iopub.status.idle": "2021-01-16T16:41:20.033100Z",
     "shell.execute_reply": "2021-01-16T16:41:20.034316Z"
    },
    "papermill": {
     "duration": 5.112124,
     "end_time": "2021-01-16T16:41:20.034515",
     "exception": false,
     "start_time": "2021-01-16T16:41:14.922391",
     "status": "completed"
    },
    "tags": []
   },
   "outputs": [],
   "source": [
    "X_tr, X_val = train.loc[splits[0], features], train.loc[splits[1], features]\n",
    "y_tr, y_val = train.loc[splits[0], target_column], train.loc[splits[1], target_column]"
   ]
  },
  {
   "cell_type": "markdown",
   "metadata": {
    "papermill": {
     "duration": 0.0427,
     "end_time": "2021-01-16T16:41:20.121691",
     "exception": false,
     "start_time": "2021-01-16T16:41:20.078991",
     "status": "completed"
    },
    "tags": []
   },
   "source": [
    "Using the fastai DataLoader and Dataoaders is useful if you like to reduce the iteration time. The idea of creating the custom dataset class is simple and generally looks like the one created for pytorch application as created here https://towardsdatascience.com/deep-learning-using-pytorch-for-tabular-data-c68017d8b480.\n",
    "\n",
    "The only difference is to return some value for the categories (cats), when they are not existing. np.zeros(len(df),).astype(np.long) will do this for us. Now we can return all values cats, conts and y."
   ]
  },
  {
   "cell_type": "code",
   "execution_count": 14,
   "metadata": {
    "execution": {
     "iopub.execute_input": "2021-01-16T16:41:20.235147Z",
     "iopub.status.busy": "2021-01-16T16:41:20.234179Z",
     "iopub.status.idle": "2021-01-16T16:41:20.250220Z",
     "shell.execute_reply": "2021-01-16T16:41:20.251579Z"
    },
    "papermill": {
     "duration": 0.088745,
     "end_time": "2021-01-16T16:41:20.251812",
     "exception": false,
     "start_time": "2021-01-16T16:41:20.163067",
     "status": "completed"
    },
    "tags": []
   },
   "outputs": [],
   "source": [
    "class Fastai_Cust_Ds():\n",
    "    def __init__(self, df, cats=None, y=None):\n",
    "        df = df.copy()\n",
    "                        \n",
    "        if cats is not None: \n",
    "            self.dfcats = df[cats] #type: pandas.core.frame.DataFrame\n",
    "            self.cats = np.stack([c.values for n, c in self.dfcats.items()], axis=1).astype(np.long)\n",
    "            self.dfconts = df.drop(cats, axis=1)\n",
    "            self.conts = np.stack([c.values for n, c in self.dfconts.items()], axis=1).astype(np.float32)\n",
    "        else:\n",
    "\n",
    "            self.dfconts = df.copy()\n",
    "            self.conts = np.stack([c.values for n, c in self.dfconts.items()], axis=1).astype(np.float32)\n",
    "            self.cats = np.zeros(len(df),).astype(np.long)\n",
    "        self.y = y.values\n",
    "        \n",
    "        \n",
    "    def __len__(self): return len(self.y)\n",
    "\n",
    "    def __getitem__(self, idx):\n",
    "\n",
    "        return [self.cats[idx], self.conts[idx], self.y[idx]]"
   ]
  },
  {
   "cell_type": "code",
   "execution_count": 15,
   "metadata": {
    "execution": {
     "iopub.execute_input": "2021-01-16T16:41:20.325865Z",
     "iopub.status.busy": "2021-01-16T16:41:20.324827Z",
     "iopub.status.idle": "2021-01-16T16:41:28.495145Z",
     "shell.execute_reply": "2021-01-16T16:41:28.494052Z"
    },
    "papermill": {
     "duration": 8.203972,
     "end_time": "2021-01-16T16:41:28.495277",
     "exception": false,
     "start_time": "2021-01-16T16:41:20.291305",
     "status": "completed"
    },
    "tags": []
   },
   "outputs": [],
   "source": [
    "train_ds = Fastai_Cust_Ds(df=X_tr, y=y_tr)\n",
    "valid_ds = Fastai_Cust_Ds(df=X_val, y=y_val)"
   ]
  },
  {
   "cell_type": "markdown",
   "metadata": {
    "papermill": {
     "duration": 0.028217,
     "end_time": "2021-01-16T16:41:28.553401",
     "exception": false,
     "start_time": "2021-01-16T16:41:28.525184",
     "status": "completed"
    },
    "tags": []
   },
   "source": [
    "Now we create the data loader for the train and validation sets after importing the fastai DataLoader which is similar to the pytorch one."
   ]
  },
  {
   "cell_type": "code",
   "execution_count": 16,
   "metadata": {
    "execution": {
     "iopub.execute_input": "2021-01-16T16:41:28.616826Z",
     "iopub.status.busy": "2021-01-16T16:41:28.615017Z",
     "iopub.status.idle": "2021-01-16T16:41:28.617507Z",
     "shell.execute_reply": "2021-01-16T16:41:28.618009Z"
    },
    "papermill": {
     "duration": 0.036101,
     "end_time": "2021-01-16T16:41:28.618138",
     "exception": false,
     "start_time": "2021-01-16T16:41:28.582037",
     "status": "completed"
    },
    "tags": []
   },
   "outputs": [],
   "source": [
    "from fastai.data.core import DataLoader"
   ]
  },
  {
   "cell_type": "code",
   "execution_count": 17,
   "metadata": {
    "execution": {
     "iopub.execute_input": "2021-01-16T16:41:28.680747Z",
     "iopub.status.busy": "2021-01-16T16:41:28.680171Z",
     "iopub.status.idle": "2021-01-16T16:41:28.684163Z",
     "shell.execute_reply": "2021-01-16T16:41:28.683506Z"
    },
    "papermill": {
     "duration": 0.037145,
     "end_time": "2021-01-16T16:41:28.684302",
     "exception": false,
     "start_time": "2021-01-16T16:41:28.647157",
     "status": "completed"
    },
    "tags": []
   },
   "outputs": [],
   "source": [
    "train_dl = DataLoader(train_ds, batch_size = 4096, drop_last=True, shuffle=False)\n",
    "valid_dl = DataLoader(valid_ds, batch_size = 2048, drop_last=True, shuffle=False)"
   ]
  },
  {
   "cell_type": "markdown",
   "metadata": {
    "papermill": {
     "duration": 0.028428,
     "end_time": "2021-01-16T16:41:28.741344",
     "exception": false,
     "start_time": "2021-01-16T16:41:28.712916",
     "status": "completed"
    },
    "tags": []
   },
   "source": [
    "The fastai DataLoader is the next step, so it must be also imported."
   ]
  },
  {
   "cell_type": "code",
   "execution_count": 18,
   "metadata": {
    "execution": {
     "iopub.execute_input": "2021-01-16T16:41:28.802985Z",
     "iopub.status.busy": "2021-01-16T16:41:28.802380Z",
     "iopub.status.idle": "2021-01-16T16:41:28.806451Z",
     "shell.execute_reply": "2021-01-16T16:41:28.805984Z"
    },
    "papermill": {
     "duration": 0.036272,
     "end_time": "2021-01-16T16:41:28.806557",
     "exception": false,
     "start_time": "2021-01-16T16:41:28.770285",
     "status": "completed"
    },
    "tags": []
   },
   "outputs": [],
   "source": [
    "from fastai.data.core import DataLoaders\n",
    "dls = DataLoaders(train_dl,valid_dl,device='cuda')"
   ]
  },
  {
   "cell_type": "code",
   "execution_count": 19,
   "metadata": {
    "execution": {
     "iopub.execute_input": "2021-01-16T16:41:28.872345Z",
     "iopub.status.busy": "2021-01-16T16:41:28.871516Z",
     "iopub.status.idle": "2021-01-16T16:41:28.876969Z",
     "shell.execute_reply": "2021-01-16T16:41:28.876438Z"
    },
    "papermill": {
     "duration": 0.041822,
     "end_time": "2021-01-16T16:41:28.877069",
     "exception": false,
     "start_time": "2021-01-16T16:41:28.835247",
     "status": "completed"
    },
    "tags": []
   },
   "outputs": [
    {
     "data": {
      "text/plain": [
       "((1585030,), (1585030, 130), (1585030, 1))"
      ]
     },
     "execution_count": 19,
     "metadata": {},
     "output_type": "execute_result"
    }
   ],
   "source": [
    "dls.cats.shape, dls.conts.shape, dls.y.shape"
   ]
  },
  {
   "cell_type": "markdown",
   "metadata": {
    "papermill": {
     "duration": 0.053965,
     "end_time": "2021-01-16T16:41:28.967693",
     "exception": false,
     "start_time": "2021-01-16T16:41:28.913728",
     "status": "completed"
    },
    "tags": []
   },
   "source": [
    "As we see, the values of cats were returned with zero values. This is important for the learner to accept the dls created.\n",
    ".\n",
    "\n",
    "There are also many useful options in both of DataLoader and DataLoaders of fastai that can be used here.  Drop_last and device are the most important.\n",
    "\n",
    "\n",
    "The only problem of creating such a custom dataset in fastai, is that the inference can not be calculated using the learn.get_preds. Instead, we do learn.model.eval()  then we infer using preds = learn.model(0,test_df). I suppose that a small modification of the custom dataset may solve this problem.\n",
    "\n",
    "\n",
    "As we will see in the custom model created here, its foreword function will need two values, one for the cats values, while the other one will take the x. The same must be done in the inference using  preds = learn.model(0,test_df)."
   ]
  },
  {
   "cell_type": "code",
   "execution_count": 20,
   "metadata": {
    "execution": {
     "iopub.execute_input": "2021-01-16T16:41:29.036727Z",
     "iopub.status.busy": "2021-01-16T16:41:29.035406Z",
     "iopub.status.idle": "2021-01-16T16:41:29.038924Z",
     "shell.execute_reply": "2021-01-16T16:41:29.039420Z"
    },
    "papermill": {
     "duration": 0.041884,
     "end_time": "2021-01-16T16:41:29.039537",
     "exception": false,
     "start_time": "2021-01-16T16:41:28.997653",
     "status": "completed"
    },
    "tags": []
   },
   "outputs": [
    {
     "data": {
      "text/plain": [
       "array([0, 0, 0, ..., 0, 0, 0])"
      ]
     },
     "execution_count": 20,
     "metadata": {},
     "output_type": "execute_result"
    }
   ],
   "source": [
    "train_ds.cats"
   ]
  },
  {
   "cell_type": "code",
   "execution_count": 21,
   "metadata": {
    "execution": {
     "iopub.execute_input": "2021-01-16T16:41:29.112175Z",
     "iopub.status.busy": "2021-01-16T16:41:29.110464Z",
     "iopub.status.idle": "2021-01-16T16:41:29.113237Z",
     "shell.execute_reply": "2021-01-16T16:41:29.113738Z"
    },
    "papermill": {
     "duration": 0.042268,
     "end_time": "2021-01-16T16:41:29.113847",
     "exception": false,
     "start_time": "2021-01-16T16:41:29.071579",
     "status": "completed"
    },
    "tags": []
   },
   "outputs": [],
   "source": [
    "class JanStr(nn.Module):\n",
    "\n",
    "    def __init__(self):\n",
    "        super(JanStr, self).__init__() \n",
    "\n",
    "        self.layers = nn.Sequential(\n",
    "\n",
    "        nn.BatchNorm1d(130),\n",
    "        LinBnDrop(130, 400, bn=True, p=0, act=Mish(), lin_first=False),\n",
    "        LinBnDrop(400, 800, bn=True, p=0.2289, act=Mish(), lin_first=False),   \n",
    "        LinBnDrop(800, 400, bn=True, p=0.2289, act=Mish(), lin_first=False),\n",
    "        LinBnDrop(400, 2, bn=False, act=None, lin_first=False),\n",
    "\n",
    "        ) \n",
    "\n",
    "    def forward(self,cat, x):\n",
    "        x = self.layers(x)\n",
    "        return F.softmax(x, dim=1)"
   ]
  },
  {
   "cell_type": "markdown",
   "metadata": {
    "papermill": {
     "duration": 0.032931,
     "end_time": "2021-01-16T16:41:29.179091",
     "exception": false,
     "start_time": "2021-01-16T16:41:29.146160",
     "status": "completed"
    },
    "tags": []
   },
   "source": [
    "The LinBnDrop is a very summarizing linear model of fastai dealing with three Batchnorm1D, nn.Linear and dropout. The forward function requires two values, cats for categories and x for the features.\n"
   ]
  },
  {
   "cell_type": "code",
   "execution_count": 22,
   "metadata": {
    "execution": {
     "iopub.execute_input": "2021-01-16T16:41:29.251679Z",
     "iopub.status.busy": "2021-01-16T16:41:29.250758Z",
     "iopub.status.idle": "2021-01-16T16:41:34.413913Z",
     "shell.execute_reply": "2021-01-16T16:41:34.413257Z"
    },
    "papermill": {
     "duration": 5.202561,
     "end_time": "2021-01-16T16:41:34.414042",
     "exception": false,
     "start_time": "2021-01-16T16:41:29.211481",
     "status": "completed"
    },
    "tags": []
   },
   "outputs": [],
   "source": [
    "model_nn = JanStr()\n",
    "model_nn = model_nn.to(device)"
   ]
  },
  {
   "cell_type": "code",
   "execution_count": 23,
   "metadata": {
    "execution": {
     "iopub.execute_input": "2021-01-16T16:41:34.489710Z",
     "iopub.status.busy": "2021-01-16T16:41:34.487539Z",
     "iopub.status.idle": "2021-01-16T16:41:34.490486Z",
     "shell.execute_reply": "2021-01-16T16:41:34.491037Z"
    },
    "papermill": {
     "duration": 0.043285,
     "end_time": "2021-01-16T16:41:34.491161",
     "exception": false,
     "start_time": "2021-01-16T16:41:34.447876",
     "status": "completed"
    },
    "tags": []
   },
   "outputs": [],
   "source": [
    "loss_func = CrossEntropyLossFlat()"
   ]
  },
  {
   "cell_type": "code",
   "execution_count": 24,
   "metadata": {
    "execution": {
     "iopub.execute_input": "2021-01-16T16:41:34.569963Z",
     "iopub.status.busy": "2021-01-16T16:41:34.569059Z",
     "iopub.status.idle": "2021-01-16T16:41:34.573327Z",
     "shell.execute_reply": "2021-01-16T16:41:34.572770Z"
    },
    "papermill": {
     "duration": 0.049375,
     "end_time": "2021-01-16T16:41:34.573428",
     "exception": false,
     "start_time": "2021-01-16T16:41:34.524053",
     "status": "completed"
    },
    "tags": []
   },
   "outputs": [],
   "source": [
    "roc_auc = RocAucBinary()"
   ]
  },
  {
   "cell_type": "code",
   "execution_count": 25,
   "metadata": {
    "execution": {
     "iopub.execute_input": "2021-01-16T16:41:34.643632Z",
     "iopub.status.busy": "2021-01-16T16:41:34.642812Z",
     "iopub.status.idle": "2021-01-16T16:41:34.646620Z",
     "shell.execute_reply": "2021-01-16T16:41:34.646025Z"
    },
    "papermill": {
     "duration": 0.041405,
     "end_time": "2021-01-16T16:41:34.646754",
     "exception": false,
     "start_time": "2021-01-16T16:41:34.605349",
     "status": "completed"
    },
    "tags": []
   },
   "outputs": [],
   "source": [
    "learn = Learner(dls, model_nn, loss_func = loss_func, metrics=roc_auc)"
   ]
  },
  {
   "cell_type": "code",
   "execution_count": 26,
   "metadata": {
    "execution": {
     "iopub.execute_input": "2021-01-16T16:41:34.717732Z",
     "iopub.status.busy": "2021-01-16T16:41:34.717166Z",
     "iopub.status.idle": "2021-01-16T16:41:34.721411Z",
     "shell.execute_reply": "2021-01-16T16:41:34.720910Z"
    },
    "papermill": {
     "duration": 0.041775,
     "end_time": "2021-01-16T16:41:34.721500",
     "exception": false,
     "start_time": "2021-01-16T16:41:34.679725",
     "status": "completed"
    },
    "tags": []
   },
   "outputs": [],
   "source": [
    "callbacks = [\n",
    "    EarlyStoppingCallback(monitor='valid_loss', min_delta=1e-5, patience=7),    \n",
    "    ReduceLROnPlateau(monitor='valid_loss', min_delta=0.00001, patience=1, min_lr=1e-8),\n",
    "    #SaveModelCallback(mode='min'),\n",
    "    SaveModelCallback(monitor='valid_loss'),\n",
    "]"
   ]
  },
  {
   "cell_type": "code",
   "execution_count": 27,
   "metadata": {
    "execution": {
     "iopub.execute_input": "2021-01-16T16:41:34.797957Z",
     "iopub.status.busy": "2021-01-16T16:41:34.797323Z",
     "iopub.status.idle": "2021-01-16T16:41:46.352706Z",
     "shell.execute_reply": "2021-01-16T16:41:46.353232Z"
    },
    "papermill": {
     "duration": 11.59953,
     "end_time": "2021-01-16T16:41:46.353373",
     "exception": false,
     "start_time": "2021-01-16T16:41:34.753843",
     "status": "completed"
    },
    "tags": []
   },
   "outputs": [
    {
     "data": {
      "text/html": [],
      "text/plain": [
       "<IPython.core.display.HTML object>"
      ]
     },
     "metadata": {},
     "output_type": "display_data"
    },
    {
     "data": {
      "text/plain": [
       "SuggestedLRs(lr_min=0.0002511886414140463, lr_steep=6.309573450380412e-07)"
      ]
     },
     "execution_count": 27,
     "metadata": {},
     "output_type": "execute_result"
    },
    {
     "data": {
      "image/png": "[encoded data removed]",
      "text/plain": [
       "<Figure size 432x288 with 1 Axes>"
      ]
     },
     "metadata": {
      "needs_background": "light"
     },
     "output_type": "display_data"
    }
   ],
   "source": [
    "learn.lr_find()"
   ]
  },
  {
   "cell_type": "code",
   "execution_count": 28,
   "metadata": {
    "execution": {
     "iopub.execute_input": "2021-01-16T16:41:46.432500Z",
     "iopub.status.busy": "2021-01-16T16:41:46.431535Z",
     "iopub.status.idle": "2021-01-16T16:41:46.434238Z",
     "shell.execute_reply": "2021-01-16T16:41:46.434730Z"
    },
    "papermill": {
     "duration": 0.043552,
     "end_time": "2021-01-16T16:41:46.434844",
     "exception": false,
     "start_time": "2021-01-16T16:41:46.391292",
     "status": "completed"
    },
    "tags": []
   },
   "outputs": [],
   "source": [
    "lr=0.00005"
   ]
  },
  {
   "cell_type": "code",
   "execution_count": 29,
   "metadata": {
    "execution": {
     "iopub.execute_input": "2021-01-16T16:41:46.514050Z",
     "iopub.status.busy": "2021-01-16T16:41:46.513391Z",
     "iopub.status.idle": "2021-01-16T16:56:31.441896Z",
     "shell.execute_reply": "2021-01-16T16:56:31.441350Z"
    },
    "papermill": {
     "duration": 884.970169,
     "end_time": "2021-01-16T16:56:31.442014",
     "exception": false,
     "start_time": "2021-01-16T16:41:46.471845",
     "status": "completed"
    },
    "tags": []
   },
   "outputs": [
    {
     "data": {
      "text/html": [
       "<table border=\"1\" class=\"dataframe\">\n",
       "  <thead>\n",
       "    <tr style=\"text-align: left;\">\n",
       "      <th>epoch</th>\n",
       "      <th>train_loss</th>\n",
       "      <th>valid_loss</th>\n",
       "      <th>roc_auc_score</th>\n",
       "      <th>time</th>\n",
       "    </tr>\n",
       "  </thead>\n",
       "  <tbody>\n",
       "    <tr>\n",
       "      <td>0</td>\n",
       "      <td>0.693253</td>\n",
       "      <td>0.691893</td>\n",
       "      <td>0.527782</td>\n",
       "      <td>00:44</td>\n",
       "    </tr>\n",
       "    <tr>\n",
       "      <td>1</td>\n",
       "      <td>0.692070</td>\n",
       "      <td>0.691273</td>\n",
       "      <td>0.533475</td>\n",
       "      <td>00:43</td>\n",
       "    </tr>\n",
       "    <tr>\n",
       "      <td>2</td>\n",
       "      <td>0.691483</td>\n",
       "      <td>0.690848</td>\n",
       "      <td>0.536346</td>\n",
       "      <td>00:43</td>\n",
       "    </tr>\n",
       "    <tr>\n",
       "      <td>3</td>\n",
       "      <td>0.690867</td>\n",
       "      <td>0.690525</td>\n",
       "      <td>0.538144</td>\n",
       "      <td>00:44</td>\n",
       "    </tr>\n",
       "    <tr>\n",
       "      <td>4</td>\n",
       "      <td>0.690587</td>\n",
       "      <td>0.690178</td>\n",
       "      <td>0.539915</td>\n",
       "      <td>00:43</td>\n",
       "    </tr>\n",
       "    <tr>\n",
       "      <td>5</td>\n",
       "      <td>0.690418</td>\n",
       "      <td>0.689866</td>\n",
       "      <td>0.541771</td>\n",
       "      <td>00:43</td>\n",
       "    </tr>\n",
       "    <tr>\n",
       "      <td>6</td>\n",
       "      <td>0.690049</td>\n",
       "      <td>0.689601</td>\n",
       "      <td>0.542981</td>\n",
       "      <td>00:44</td>\n",
       "    </tr>\n",
       "    <tr>\n",
       "      <td>7</td>\n",
       "      <td>0.689736</td>\n",
       "      <td>0.689386</td>\n",
       "      <td>0.544236</td>\n",
       "      <td>00:43</td>\n",
       "    </tr>\n",
       "    <tr>\n",
       "      <td>8</td>\n",
       "      <td>0.689446</td>\n",
       "      <td>0.689178</td>\n",
       "      <td>0.545255</td>\n",
       "      <td>00:43</td>\n",
       "    </tr>\n",
       "    <tr>\n",
       "      <td>9</td>\n",
       "      <td>0.689405</td>\n",
       "      <td>0.688938</td>\n",
       "      <td>0.546451</td>\n",
       "      <td>00:44</td>\n",
       "    </tr>\n",
       "    <tr>\n",
       "      <td>10</td>\n",
       "      <td>0.689128</td>\n",
       "      <td>0.688777</td>\n",
       "      <td>0.547193</td>\n",
       "      <td>00:44</td>\n",
       "    </tr>\n",
       "    <tr>\n",
       "      <td>11</td>\n",
       "      <td>0.688842</td>\n",
       "      <td>0.688604</td>\n",
       "      <td>0.547937</td>\n",
       "      <td>00:44</td>\n",
       "    </tr>\n",
       "    <tr>\n",
       "      <td>12</td>\n",
       "      <td>0.688774</td>\n",
       "      <td>0.688466</td>\n",
       "      <td>0.548651</td>\n",
       "      <td>00:43</td>\n",
       "    </tr>\n",
       "    <tr>\n",
       "      <td>13</td>\n",
       "      <td>0.688762</td>\n",
       "      <td>0.688351</td>\n",
       "      <td>0.549189</td>\n",
       "      <td>00:44</td>\n",
       "    </tr>\n",
       "    <tr>\n",
       "      <td>14</td>\n",
       "      <td>0.688473</td>\n",
       "      <td>0.688260</td>\n",
       "      <td>0.549487</td>\n",
       "      <td>00:44</td>\n",
       "    </tr>\n",
       "    <tr>\n",
       "      <td>15</td>\n",
       "      <td>0.688484</td>\n",
       "      <td>0.688204</td>\n",
       "      <td>0.549699</td>\n",
       "      <td>00:44</td>\n",
       "    </tr>\n",
       "    <tr>\n",
       "      <td>16</td>\n",
       "      <td>0.688345</td>\n",
       "      <td>0.688157</td>\n",
       "      <td>0.549884</td>\n",
       "      <td>00:44</td>\n",
       "    </tr>\n",
       "    <tr>\n",
       "      <td>17</td>\n",
       "      <td>0.688338</td>\n",
       "      <td>0.688136</td>\n",
       "      <td>0.549970</td>\n",
       "      <td>00:44</td>\n",
       "    </tr>\n",
       "    <tr>\n",
       "      <td>18</td>\n",
       "      <td>0.688252</td>\n",
       "      <td>0.688129</td>\n",
       "      <td>0.550014</td>\n",
       "      <td>00:44</td>\n",
       "    </tr>\n",
       "    <tr>\n",
       "      <td>19</td>\n",
       "      <td>0.688276</td>\n",
       "      <td>0.688126</td>\n",
       "      <td>0.550037</td>\n",
       "      <td>00:45</td>\n",
       "    </tr>\n",
       "  </tbody>\n",
       "</table>"
      ],
      "text/plain": [
       "<IPython.core.display.HTML object>"
      ]
     },
     "metadata": {},
     "output_type": "display_data"
    },
    {
     "name": "stdout",
     "output_type": "stream",
     "text": [
      "Better model found at epoch 0 with valid_loss value: 0.6918925046920776.\n",
      "Better model found at epoch 1 with valid_loss value: 0.6912734508514404.\n",
      "Better model found at epoch 2 with valid_loss value: 0.690848171710968.\n",
      "Better model found at epoch 3 with valid_loss value: 0.6905250549316406.\n",
      "Better model found at epoch 4 with valid_loss value: 0.6901783347129822.\n",
      "Better model found at epoch 5 with valid_loss value: 0.6898655891418457.\n",
      "Better model found at epoch 6 with valid_loss value: 0.6896011829376221.\n",
      "Better model found at epoch 7 with valid_loss value: 0.6893863677978516.\n",
      "Better model found at epoch 8 with valid_loss value: 0.6891781687736511.\n",
      "Better model found at epoch 9 with valid_loss value: 0.6889375448226929.\n",
      "Better model found at epoch 10 with valid_loss value: 0.6887773871421814.\n",
      "Better model found at epoch 11 with valid_loss value: 0.6886038780212402.\n",
      "Better model found at epoch 12 with valid_loss value: 0.6884658336639404.\n",
      "Better model found at epoch 13 with valid_loss value: 0.6883508563041687.\n",
      "Better model found at epoch 14 with valid_loss value: 0.6882601976394653.\n",
      "Better model found at epoch 15 with valid_loss value: 0.688203752040863.\n",
      "Better model found at epoch 16 with valid_loss value: 0.6881571412086487.\n",
      "Better model found at epoch 17 with valid_loss value: 0.6881362199783325.\n",
      "Epoch 18: reducing lr to 5.496286631997762e-08\n",
      "Better model found at epoch 18 with valid_loss value: 0.6881285905838013.\n",
      "Better model found at epoch 19 with valid_loss value: 0.6881255507469177.\n"
     ]
    }
   ],
   "source": [
    "learn.fit_one_cycle(20, lr, wd = 0.0001, cbs=callbacks)"
   ]
  },
  {
   "cell_type": "code",
   "execution_count": 30,
   "metadata": {
    "execution": {
     "iopub.execute_input": "2021-01-16T16:56:31.531937Z",
     "iopub.status.busy": "2021-01-16T16:56:31.531210Z",
     "iopub.status.idle": "2021-01-16T16:56:31.534324Z",
     "shell.execute_reply": "2021-01-16T16:56:31.533827Z"
    },
    "papermill": {
     "duration": 0.049238,
     "end_time": "2021-01-16T16:56:31.534420",
     "exception": false,
     "start_time": "2021-01-16T16:56:31.485182",
     "status": "completed"
    },
    "tags": []
   },
   "outputs": [],
   "source": [
    "def fill_nan(test_df):\n",
    "    test_df=test_df[features]\n",
    "    xar=test_df[features].values\n",
    "    na_arr=np.ones((1,len(features)), dtype=float)\n",
    "    na_arr=na_arr*(999)\n",
    "    xar = xar - na_arr\n",
    "    xar = np.nan_to_num(xar, nan=-999)\n",
    "    xar = xar + na_arr\n",
    "    test_df = torch.FloatTensor(xar)\n",
    "    return test_df"
   ]
  },
  {
   "cell_type": "code",
   "execution_count": 31,
   "metadata": {
    "execution": {
     "iopub.execute_input": "2021-01-16T16:56:31.619057Z",
     "iopub.status.busy": "2021-01-16T16:56:31.618467Z",
     "iopub.status.idle": "2021-01-16T16:56:31.645587Z",
     "shell.execute_reply": "2021-01-16T16:56:31.645013Z"
    },
    "papermill": {
     "duration": 0.07146,
     "end_time": "2021-01-16T16:56:31.645696",
     "exception": false,
     "start_time": "2021-01-16T16:56:31.574236",
     "status": "completed"
    },
    "tags": []
   },
   "outputs": [],
   "source": [
    "learn.model.eval()\n",
    "import janestreet\n",
    "env = janestreet.make_env()\n",
    "env_iter = env.iter_test()"
   ]
  },
  {
   "cell_type": "code",
   "execution_count": 32,
   "metadata": {
    "execution": {
     "iopub.execute_input": "2021-01-16T16:56:31.736257Z",
     "iopub.status.busy": "2021-01-16T16:56:31.735516Z",
     "iopub.status.idle": "2021-01-16T17:00:05.167961Z",
     "shell.execute_reply": "2021-01-16T17:00:05.167422Z"
    },
    "papermill": {
     "duration": 213.481899,
     "end_time": "2021-01-16T17:00:05.168096",
     "exception": false,
     "start_time": "2021-01-16T16:56:31.686197",
     "status": "completed"
    },
    "tags": []
   },
   "outputs": [
    {
     "name": "stderr",
     "output_type": "stream",
     "text": [
      "15219it [03:33, 71.31it/s]\n"
     ]
    }
   ],
   "source": [
    "for (test_df, pred_df) in tqdm(env_iter):\n",
    "    X_test = fill_nan(test_df).cuda()\n",
    "    preds = learn.model(0,X_test).argmax(dim=1).detach().cpu().numpy()\n",
    "    eps=0.5\n",
    "\n",
    "    #action = ((test_df['weight'].values * probas[:, 1]) > 0).astype('int')\n",
    "    if test_df['weight'].item() == 0:\n",
    "        action=0\n",
    "    else:\n",
    "        action=preds\n",
    "    pred_df.action = action\n",
    "    env.predict(pred_df)"
   ]
  }
 ],
 "metadata": {
  "kernelspec": {
   "display_name": "Python 3",
   "language": "python",
   "name": "python3"
  },
  "language_info": {
   "codemirror_mode": {
    "name": "ipython",
    "version": 3
   },
   "file_extension": ".py",
   "mimetype": "text/x-python",
   "name": "python",
   "nbconvert_exporter": "python",
   "pygments_lexer": "ipython3",
   "version": "3.7.6"
  },
  "papermill": {
   "duration": 1213.063213,
   "end_time": "2021-01-16T17:00:06.353540",
   "environment_variables": {},
   "exception": null,
   "input_path": "__notebook__.ipynb",
   "output_path": "__notebook__.ipynb",
   "parameters": {},
   "start_time": "2021-01-16T16:39:53.290327",
   "version": "2.1.0"
  }
 },
 "nbformat": 4,
 "nbformat_minor": 4
}
